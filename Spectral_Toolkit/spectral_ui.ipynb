{
 "cells": [
  {
   "cell_type": "code",
   "execution_count": 2,
   "metadata": {},
   "outputs": [],
   "source": [
    "from dash import Dash, html, dcc\n",
    "\n",
    "import dash_bootstrap_components as dbc"
   ]
  },
  {
   "cell_type": "code",
   "execution_count": 33,
   "metadata": {},
   "outputs": [
    {
     "data": {
      "text/html": [
       "\n",
       "        <iframe\n",
       "            width=\"100%\"\n",
       "            height=\"650\"\n",
       "            src=\"http://127.0.0.1:8050/\"\n",
       "            frameborder=\"0\"\n",
       "            allowfullscreen\n",
       "            \n",
       "        ></iframe>\n",
       "        "
      ],
      "text/plain": [
       "<IPython.lib.display.IFrame at 0x25f39e04080>"
      ]
     },
     "metadata": {},
     "output_type": "display_data"
    }
   ],
   "source": [
    "app = Dash(__name__)\n",
    "\n",
    "app.layout = dbc.Container([\n",
    "    # Divided the dashboard horizontally, and by default, \n",
    "    # the height of its child containers will be 100% of \n",
    "    # the parent. Can give width as pixels or percentages.\n",
    "    html.Div([\n",
    "        # Divided into 4 sections, one for title, another\n",
    "        # for modes of operation buttons (spectrum, classification)\n",
    "        # another for options (cluster_num, normalization, etc...)\n",
    "        # and lastly a plot showing either classification or spectral\n",
    "        # images.\n",
    "        html.Div([\n",
    "            html.H1(\"Spectral UI\"),\n",
    "            html.P([\n",
    "                html.Br(),\n",
    "                html.Span(\"PROJECT: [project-id]\"),\n",
    "                html.Br(),\n",
    "                html.Span(\"SAMPLE: [sample-id]\"),\n",
    "                html.Br(),\n",
    "                html.Br(),\n",
    "                html.Span(\"INESC TEC Spectroscopy Group\"),\n",
    "            ])],\n",
    "            style = {\n",
    "                \"vertical-alignment\": \"top\",\n",
    "                \"height\": 260\n",
    "            }\n",
    "        ), \n",
    "        html.Div(),\n",
    "        html.Div(), \n",
    "        html.Div()\n",
    "    ],\n",
    "        style = {\n",
    "        'width': \"35%\",\n",
    "        'margin-left': 35,\n",
    "        'margin-top': 35,\n",
    "        'margin-bottom': 35\n",
    "    }), \n",
    "    html.Div([\n",
    "        # Divided into 2 sections, one for periodic table\n",
    "        # and another for an average spectrum.\n",
    "        html.Div(),\n",
    "        html.Div()\n",
    "    ],\n",
    "        style = {\n",
    "        'width': \"65%\",\n",
    "        'margin-top': 35,\n",
    "        'margin-right': 35,\n",
    "        'margin-bottom': 35\n",
    "    })\n",
    "    ], \n",
    "    fluid = True,\n",
    "    className = 'Dashboard-container'\n",
    "    )\n",
    "\n",
    "if __name__ == '__main__':\n",
    "    app.run_server(debug = True)"
   ]
  }
 ],
 "metadata": {
  "kernelspec": {
   "display_name": "spectral_env",
   "language": "python",
   "name": "python3"
  },
  "language_info": {
   "codemirror_mode": {
    "name": "ipython",
    "version": 3
   },
   "file_extension": ".py",
   "mimetype": "text/x-python",
   "name": "python",
   "nbconvert_exporter": "python",
   "pygments_lexer": "ipython3",
   "version": "3.12.4"
  }
 },
 "nbformat": 4,
 "nbformat_minor": 2
}
