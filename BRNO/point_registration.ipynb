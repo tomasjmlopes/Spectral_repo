{
 "cells": [
  {
   "cell_type": "code",
   "execution_count": 1,
   "metadata": {},
   "outputs": [],
   "source": [
    "%load_ext autoreload"
   ]
  },
  {
   "cell_type": "code",
   "execution_count": 1,
   "metadata": {},
   "outputs": [],
   "source": [
    "import numpy as np\n",
    "import matplotlib.pyplot as plt\n",
    "from matplotlib import colors\n",
    "from src.datalib import *\n",
    "from scipy.ndimage import gaussian_filter\n",
    "from scipy import ndimage\n",
    "import os\n",
    "import pandas\n",
    "\n",
    "from tqdm import tqdm\n",
    "%matplotlib widget"
   ]
  },
  {
   "cell_type": "code",
   "execution_count": 2,
   "metadata": {},
   "outputs": [],
   "source": [
    "wavelength_to_index = lambda x, wavelengths: np.argmin( np.abs( wavelengths - x ) )\n",
    "\n",
    "def min_max(arr):\n",
    "    return  abs( (arr - arr.min()) / (arr.max() - arr.min()) )#.astype(np.uint8)"
   ]
  },
  {
   "cell_type": "markdown",
   "metadata": {},
   "source": [
    "# 1. Load LIBS Dataset"
   ]
  },
  {
   "cell_type": "code",
   "execution_count": 3,
   "metadata": {},
   "outputs": [
    {
     "name": "stdout",
     "output_type": "stream",
     "text": [
      "loading wavelengths\n",
      "loading metadata\n",
      "preprocessed file was not found; setting overwrite to True\n",
      "loading raw data\n",
      "getting baselines\n"
     ]
    }
   ],
   "source": [
    "file_libs_metadata = r'E:/Data/Data_LIBS/Data_Brno/P36 - Epithelioid angiosarcoma/LIBS/Kopie souboru 403x540-P36B-Avantes.libsmetadata.txt'\n",
    "file_libs_data = r\"E:/Data/Data_LIBS/Data_Brno/P36 - Epithelioid angiosarcoma/LIBS/Kopie souboru 403x540-P36B-Avantes.libsdata\"\n",
    "\n",
    "libs_manipulator = MapData(file_path = file_libs_data)\n",
    "libs_manipulator.load_wavelenths()\n",
    "libs_manipulator.load_all_data('libs')\n",
    "libs_manipulator.baseline_correct()"
   ]
  },
  {
   "cell_type": "code",
   "execution_count": null,
   "metadata": {},
   "outputs": [
    {
     "name": "stdout",
     "output_type": "stream",
     "text": [
      "getting map dimensions\n"
     ]
    }
   ],
   "source": [
    "libs_manipulator.get_map_dimensions()\n",
    "nx, ny = libs_manipulator.map_dimensions\n",
    "spectrum = libs_manipulator.spectra.reshape(ny, nx, -1)\n",
    "wavelengths = libs_manipulator.wvl\n",
    "\n",
    "# Correct flipped dimensions\n",
    "spectrum[1::2, :] = spectrum[1::2, ::-1]"
   ]
  },
  {
   "cell_type": "markdown",
   "metadata": {},
   "source": [
    "# 2. Load ICP-MS Data"
   ]
  },
  {
   "cell_type": "code",
   "execution_count": null,
   "metadata": {},
   "outputs": [],
   "source": [
    "main_dir = r\"\"\n",
    "sample_dir = r\"P36 - Epithelioid angiosarcoma//\"\n",
    "dir_ICP = main_dir + sample_dir + r\"LA-ICP-MS//P36B//Export//\"\n",
    "dir_image = main_dir + sample_dir + r\"Histology//\"\n",
    "dir_LIBS = main_dir + sample_dir + r'LIBS//'\n",
    "\n",
    "\n",
    "def read_image(folder,index=0):\n",
    "    files = [folder+'//'+f for f in os.listdir(folder) if f.endswith('jpg')]\n",
    "    return skimage.io.imread(files[index])\n",
    "\n",
    "def read_metadata(file1):\n",
    "    df = pandas.read_csv(file1,encoding = \"ISO-8859-1\",header=None)\n",
    "    map_dims = [float(df[1][0].split('x')[0]),float(df[1][0].split('x')[1])]\n",
    "    spot_dims = [float(df[1][1].split('x')[0]),float(df[1][1].split('x')[1])]\n",
    "    return map_dims, spot_dims\n",
    "\n",
    "def read_icp(folder, name='Total'):\n",
    "    file1 = [folder+'//'+f for f in os.listdir(folder) if f.endswith('csv') and 'metadata' in f]\n",
    "    print(file1)\n",
    "    map_dims, spot_dims = read_metadata(file1[0])\n",
    "    files = [folder+'//'+f for f in os.listdir(folder) if f.endswith('csv') and name in f]\n",
    "    df = pandas.read_csv(files[0],encoding = \"ISO-8859-1\",header=None)\n",
    "    df = df.fillna(0)\n",
    "    data = df.to_numpy()\n",
    "    data-=data.min()+1\n",
    "    return map_dims, spot_dims, data\n",
    "\n",
    "names_ICP = ['Mg','Cu','Fe']\n",
    "n_ICP = len(names_ICP)\n",
    "data_ICP = []\n",
    "for i in range(0, n_ICP):\n",
    "    map_dims, spot_dims, data = read_icp(dir_ICP,name=names_ICP[i])\n",
    "    data_ICP.append(data)\n",
    "\n",
    "fig1, ax = plt.subplots(1,1+n_ICP,figsize=[10,5])\n",
    "\n",
    "sample_image = read_image(dir_image)\n",
    "ax[0].imshow(sample_image,origin='lower')\n",
    "\n",
    "for i in range(0, n_ICP):\n",
    "    ax[i+1].imshow(data_ICP[i], norm = colors.LogNorm(vmin = 10, vmax=data.max()), cmap = 'cividis', extent=[0,map_dims[0],0,map_dims[1]])\n",
    "    ax[i+1].set_xlabel(r'$x (\\mu m)$')\n",
    "    ax[i+1].set_ylabel(r'$y (\\mu m)$')\n",
    "    ax[i+1].set_title('LA-ICP-MS '+ str(names_ICP[i]))"
   ]
  }
 ],
 "metadata": {
  "kernelspec": {
   "display_name": "deeplearning_env",
   "language": "python",
   "name": "python3"
  },
  "language_info": {
   "codemirror_mode": {
    "name": "ipython",
    "version": 3
   },
   "file_extension": ".py",
   "mimetype": "text/x-python",
   "name": "python",
   "nbconvert_exporter": "python",
   "pygments_lexer": "ipython3",
   "version": "3.12.3"
  }
 },
 "nbformat": 4,
 "nbformat_minor": 2
}
