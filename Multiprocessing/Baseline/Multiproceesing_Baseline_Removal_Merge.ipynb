{
 "cells": [
  {
   "cell_type": "code",
   "execution_count": 2,
   "metadata": {},
   "outputs": [],
   "source": [
    "import warnings\n",
    "warnings.filterwarnings('ignore')\n",
    "from Data_Core.experiment import *\n",
    "from Data_Core.digital_twin import *\n",
    "import h5py\n",
    "from tqdm.notebook import *\n",
    "import mpi4py"
   ]
  },
  {
   "cell_type": "code",
   "execution_count": 2,
   "metadata": {},
   "outputs": [],
   "source": [
    "#Correr no Anaconda Prompt (não esquecer criar a pasta PRO)\n",
    "\n",
    "#cd /d L:\\\\LIBS\\\\Multi_Pro\\\\\n",
    "\n",
    "#mpiexec -n 16 python preprocess_map.py  F:\\\\Data\\\\Data_LIBS\\\\High_res F:\\\\Data\\\\Data_LIBS\\\\PRO\\\\\n"
   ]
  },
  {
   "cell_type": "markdown",
   "metadata": {},
   "source": [
    "# Merge Files"
   ]
  },
  {
   "cell_type": "code",
   "execution_count": 3,
   "metadata": {},
   "outputs": [
    {
     "data": {
      "application/vnd.jupyter.widget-view+json": {
       "model_id": "3abd1222fcd840919f881f5ec5b38566",
       "version_major": 2,
       "version_minor": 0
      },
      "text/plain": [
       "  0%|          | 0/220.0 [00:00<?, ?it/s]"
      ]
     },
     "metadata": {},
     "output_type": "display_data"
    }
   ],
   "source": [
    "\n",
    "#folder = r'C:\\\\Users\\\\User\\\\Desktop\\\\Dados\\\\Espodumena_Petalite_Core\\\\PRO\\\\'\n",
    "\n",
    "folder = r'F:\\\\Data\\\\Data_LIBS\\\\PRO\\\\'\n",
    "\n",
    "list_folder = [folder + f for f in os.listdir(folder) if f.endswith('.hdf5')]\n",
    "\n",
    "raw_spectrums = []\n",
    "pro_spectrums = []\n",
    "positions = []\n",
    "\n",
    "pbar = tqdm(total=len(list_folder)/100)\n",
    "\n",
    "\n",
    "new_file = h5py.File(r'F:\\\\Data\\\\Data_LIBS\\\\Rock_PE\\\\High_res_map.h5', 'w')\n",
    "\n",
    "for i in range(0,len(list_folder)):\n",
    "    file = list_folder[i]\n",
    "    hf = h5py.File(file, 'r')\n",
    "\n",
    "     \n",
    "    if i == 0:\n",
    "        sample = [key for key in list(hf.keys()) if 'Sample' in key][0]\n",
    "        grp1 = new_file.create_group(sample)\n",
    "    \n",
    "    grp1_original = hf[sample]\n",
    "    if i%100 == 0:\n",
    "        pbar.update(1)\n",
    "\n",
    "    grp1_original.copy(list(grp1_original.keys())[0], grp1)\n",
    "    if list(grp1_original.keys())[0] == 'Spot_0':\n",
    "        hf.copy('System properties', new_file)\n",
    "    hf.close()\n",
    "new_file.close()"
   ]
  },
  {
   "cell_type": "code",
   "execution_count": 9,
   "metadata": {},
   "outputs": [],
   "source": [
    "new_file.close()\n",
    "hf.close()"
   ]
  },
  {
   "cell_type": "code",
   "execution_count": null,
   "metadata": {},
   "outputs": [],
   "source": []
  }
 ],
 "metadata": {
  "kernelspec": {
   "display_name": "Python 3",
   "language": "python",
   "name": "python3"
  },
  "language_info": {
   "codemirror_mode": {
    "name": "ipython",
    "version": 3
   },
   "file_extension": ".py",
   "mimetype": "text/x-python",
   "name": "python",
   "nbconvert_exporter": "python",
   "pygments_lexer": "ipython3",
   "version": "3.9.13"
  }
 },
 "nbformat": 4,
 "nbformat_minor": 2
}
