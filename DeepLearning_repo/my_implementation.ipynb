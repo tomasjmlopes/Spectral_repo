{
 "cells": [
  {
   "cell_type": "code",
   "execution_count": 18,
   "metadata": {},
   "outputs": [],
   "source": [
    "import torch\n",
    "from torch import nn\n",
    "import torchvision\n",
    "import math\n",
    "import numpy as np\n",
    "import matplotlib.pyplot as plt"
   ]
  },
  {
   "cell_type": "code",
   "execution_count": 20,
   "metadata": {},
   "outputs": [],
   "source": [
    "pixel_size = 50e-6\n",
    "z = 50e-3\n",
    "nx = ny = 1024\n",
    "\n",
    "x = np.linspace(-nx//2**2, nx//2**2-1, nx)*pixel_size\n",
    "y = np.linspace(-ny//2**2, ny//2**2-1, ny)*pixel_size\n",
    "X, Y = np.meshgrid(x, y)\n",
    "\n",
    "# Input Field\n",
    "sigma = 20*pixel_size\n",
    "field = np.exp(-(X**2 + Y**2)/(2 * sigma**2))"
   ]
  },
  {
   "cell_type": "code",
   "execution_count": 32,
   "metadata": {},
   "outputs": [],
   "source": [
    "class ConvolutionalBlock(nn.Module):\n",
    "    def __init__(self, in_channels, out_channels, kernel_size, stride = 1, batch_norm = False, activation = None):\n",
    "        super(ConvolutionalBlock, self).__init__()\n",
    "\n",
    "        if activation is not None:\n",
    "            activation = activation.lower()\n",
    "            assert activation in {\"prelu\", \"leakyrelu\", \"tanh\"}\n",
    "\n",
    "        # This list holds all the layers for this block. In this case, a single 2d convolution\n",
    "        layers = list()\n",
    "        layers.append(nn.Conv2d(in_channels = in_channels, out_channels = out_channels, kernel_size = kernel_size, stride = stride, \n",
    "                                padding = kernel_size//2))\n",
    "        \n",
    "        # Cases where batchnorm is used\n",
    "        if activation == \"prelu\":\n",
    "            layers.append(nn.PReLU())\n",
    "        elif activation == \"leakyrelu\":\n",
    "            layers.append(nn.LeakyReLU(0.2))\n",
    "        elif activation == \"tanh\":\n",
    "            layers.append(nn.Tanh())\n",
    "\n",
    "        # Assemble the convolutional block\n",
    "        self.conv_block = nn.Sequential(*layers)\n",
    "\n",
    "    def forward(self, x):\n",
    "        output = self.conv_block(x)\n",
    "        return output"
   ]
  },
  {
   "cell_type": "code",
   "execution_count": 33,
   "metadata": {},
   "outputs": [],
   "source": [
    "class SubPixelConvolutionBlock(nn.Module):\n",
    "    def __init__(self, kernel_size = 3, n_channels = 64, scaling_factor = 2):\n",
    "        super(SubPixelConvolutionBlock, self).__init__()\n",
    "\n",
    "        self.conv = nn.Conv2d(in_channels = n_channels, out_channels = n_channels * (scaling_factor **2),\n",
    "                              kernel_size = kernel_size, padding = kernel_size // 2)\n",
    "        self.pixel_suffle = nn.PixelShuffle(upscale_factor = scaling_factor)\n",
    "        self.prelu = nn.PReLU()\n",
    "\n",
    "    def forward(self, x):\n",
    "        output = self.conv(x)\n",
    "        output = self.pixel_suffle(output)\n",
    "        output = self.prelu(output)\n",
    "\n",
    "        return output"
   ]
  },
  {
   "cell_type": "code",
   "execution_count": 36,
   "metadata": {},
   "outputs": [],
   "source": [
    "class ResidualBlock(nn.Module):\n",
    "    def __init__(self, kernel_size = 3, n_channels = 64):\n",
    "        super(ResidualBlock, self).__init__()\n",
    "\n",
    "        self.conv_block1 = ConvolutionalBlock(in_channels = n_channels, out_channels = n_channels, kernel_size = kernel_size,\n",
    "                                               batch_norm = False, activation = \"PReLU\")\n",
    "        self.conv_block2 = ConvolutionalBlock(in_channels = n_channels, out_channels = n_channels, kernel_size = kernel_size,\n",
    "                                              batch_norm = False, activation = None)\n",
    "        \n",
    "    def forward(self, x):\n",
    "        residual = x\n",
    "        output = self.conv_block1(x)\n",
    "        output = self.conv_block2(output)\n",
    "        output = output + residual\n",
    "\n",
    "        return output"
   ]
  },
  {
   "cell_type": "code",
   "execution_count": null,
   "metadata": {},
   "outputs": [],
   "source": [
    "class SRResNet(nn.Module):\n",
    "    def __init__(self, large_kernel_size = 9, small_kernel_size = 3, n_channels = 64, n_blocks = 16, scaling_factor = 4):\n",
    "        super(SRResNet, self).__init__()\n",
    "\n",
    "        scaling_factor = int(scaling_factor)\n",
    "        assert scaling_factor in {2, 4, 8}, \"The Scaling Factor must be 2, 4, or 8!\"\n",
    "\n",
    "        self.conv_block1 = ConvolutionalBlock(in_channels = 3, out_channels = n_channels, kernel_size = large_kernel_size,\n",
    "                                              batch_norm = False, activation = \"PReLU\")\n",
    "        self.residual_blocks = nn.Sequential(\n",
    "            *[ResidualBlock(kernel_size = small_kernel_size, n_channels = n_channels) for i in range(n_blocks)])\n",
    "        self.conv_block2 = ConvolutionalBlock(in_channels = n_channels, out_channels = n_channels, kernel_size = small_kernel_size,\n",
    "                                              batch_norm = False, activation = \"Tanh\")\n",
    "        \n",
    "        n_subpixel_convolution_blocks = int(math.log2(scaling_factor))\n",
    "        self.subpixel_convolutional_blocks = nn.Sequential(\n",
    "            *[SubPixelConvolutionBlock(kernel_size = small_kernel_size, n_channels = n_channels, scaling_factor = 2) for i \n",
    "              in range(n_subpixel_convolution_blocks)])\n",
    "        self.conv_block3 = ConvolutionalBlock(in_channels = n_channels, out_channels = 3, kernel_size = large_kernel_size,\n",
    "                                              batch_norm = False, activation = 'Tanh')\n",
    "        \n",
    "    def forward(self, lr_imgs):\n",
    "\n",
    "        output = self.conv_block1(lr_imgs) \n",
    "        residual = output\n",
    "        output = self.residual_blocks(output) \n",
    "        output = self.conv_block2(output) \n",
    "        output = output + residual \n",
    "        output = self.subpixel_convolutional_blocks(output) \n",
    "        sr_imgs = self.conv_block3(output)\n",
    "\n",
    "        return sr_imgs"
   ]
  }
 ],
 "metadata": {
  "kernelspec": {
   "display_name": "base",
   "language": "python",
   "name": "python3"
  },
  "language_info": {
   "codemirror_mode": {
    "name": "ipython",
    "version": 3
   },
   "file_extension": ".py",
   "mimetype": "text/x-python",
   "name": "python",
   "nbconvert_exporter": "python",
   "pygments_lexer": "ipython3",
   "version": "3.7.6"
  }
 },
 "nbformat": 4,
 "nbformat_minor": 2
}
