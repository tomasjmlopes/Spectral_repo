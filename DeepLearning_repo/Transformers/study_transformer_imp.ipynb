{
 "cells": [
  {
   "cell_type": "code",
   "execution_count": 25,
   "metadata": {},
   "outputs": [],
   "source": [
    "import torch\n",
    "import torch.nn as nn\n",
    "import torch.nn.functional as F\n",
    "import numpy as np"
   ]
  },
  {
   "cell_type": "markdown",
   "metadata": {},
   "source": [
    "# 1. Implement Scaled Dot Product Attention Mechanism"
   ]
  },
  {
   "cell_type": "markdown",
   "metadata": {},
   "source": [
    "$$ \\text{SoftMax} \\left( \\frac{Q}{T_e}K^T\\right) V, \\quad T_e = \\sqrt{d_k}$$"
   ]
  },
  {
   "cell_type": "code",
   "execution_count": 9,
   "metadata": {},
   "outputs": [],
   "source": [
    "class ScaledDotProductAttention(nn.Module):\n",
    "    \"\"\" Scaled Dot Product Attention \"\"\"\n",
    "    def __init__(self, temperature, attn_dropout = 0.1):\n",
    "        super(ScaledDotProductAttention, self).__init__()\n",
    "        self.temperature = temperature\n",
    "        self.dropout = nn.Dropout(attn_dropout)\n",
    "\n",
    "    def forward(self, q, k, v, mask = None):\n",
    "        attn = torch.matmul(q/self.temperature, k.transpose(2, 3))\n",
    "\n",
    "        if mask is not None:\n",
    "            attn = attn.masked_fill(mask == 0, -1e9)\n",
    "\n",
    "        attn = self.dropout(F.softmax(attn, dim = -1))\n",
    "        output = torch.matmul(attn, v)\n",
    "\n",
    "        return output, attn"
   ]
  },
  {
   "cell_type": "markdown",
   "metadata": {},
   "source": [
    "# 2. Implement Multi-Head Attention\n",
    "\n",
    "<img src=\"https://production-media.paperswithcode.com/methods/multi-head-attention_l1A3G7a.png\" alt=\"Encoder\" width=\"300\" height=\"auto\">"
   ]
  },
  {
   "cell_type": "markdown",
   "metadata": {},
   "source": [
    "### Run several scaled dot product attention, each mapping to a different feature map, meaning each has its own Q, K, and V matrices.\n",
    "\n",
    "- $ d_{model} \\rightarrow $ dimensionality of the representation of each token. In other words it is the number of values that are associated with a word. [Embedding Space]\n",
    "\n",
    "- $ d_k \\rightarrow $ feature space of reduced dimensionality. It represents an extraction of some sort of information from the complete dimensionality  $d_{model}$\n",
    "\n",
    "- $ d_v \\rightarrow w_V $ represents the matrix that when multiplied by the embedding ($d_{model}$) return the value vector. The value vector is what must be added to the original embedding to provide context\n",
    "\n"
   ]
  },
  {
   "cell_type": "markdown",
   "metadata": {},
   "source": [
    "$$ {W_Q}_{\\text{Multi-head}} =\n",
    "\\left(\n",
    "  \\begin{array}{c|c|c|c}\n",
    "      &     &        &             \\\\\n",
    "  {W_Q}_1 & {W_Q}_2 & \\cdots & {W_Q}_{n_{Heads}} \\\\\n",
    "      &     &        &  \n",
    "\\end{array} \\right), \\quad\n",
    "\n",
    "{W_K}_{\\text{Multi-head}} =\n",
    "\\left(\n",
    "  \\begin{array}{c|c|c|c}\n",
    "      &     &        &             \\\\\n",
    "  {W_K}_1 & {W_K}_2 & \\cdots & {W_K}_{n_{Heads}} \\\\\n",
    "      &     &        &  \n",
    "\\end{array} \\right), \\quad\n",
    "\n",
    "{W_V}_{\\text{Multi-head}} =\n",
    "\\left(\n",
    "  \\begin{array}{c|c|c|c}\n",
    "      &     &        &             \\\\\n",
    "  {W_V}_1 & {W_V}_2 & \\cdots & {W_V}_{n_{Heads}} \\\\\n",
    "      &     &        &  \n",
    "\\end{array} \\right)\n",
    "$$\n",
    "\n",
    "$${W_Q}_x, {W_K}_x \\quad \\text{have dimensions} \\quad (d_k \\times d_{model})$$\n",
    "$${W_V}_x \\quad \\text{has dimensions} \\quad (d_{model} \\times d_{model})$$"
   ]
  },
  {
   "cell_type": "markdown",
   "metadata": {},
   "source": [
    "This way $W_V$ has many more paramenters than $W_Q$ and $W_K$ so it is often split into two matrices ${W_V}_{\\uparrow}$, and ${W_V}_{\\downarrow}$\n",
    "\n",
    "Then, instead of having:\n",
    "$$ {W_V}_1 \\times E_{token}, \\quad \\text{we write} \\quad {W_V}_{1\\uparrow} \\times {W_V}_{1\\downarrow} \\times E_{token}$$\n",
    "\n",
    "Here ${W_V}_{\\uparrow}$ has dimensions $(d_{model} \\times d_v)$, and ${W_V}_{\\downarrow}$ has dimensions $(d_v \\times d_{model})$\n",
    "\n",
    "<sub>*notation for matrix dimensions is (rows x columns). Here we are considering $W \\times E_\\uparrow$ but nn.Linear() is actually more similar to $E_\\rightarrow \\times W^T$</sub>"
   ]
  },
  {
   "cell_type": "code",
   "execution_count": 10,
   "metadata": {},
   "outputs": [],
   "source": [
    "class MultiHeadAttention(nn.Module):\n",
    "    \"\"\" Multi-Head Attention \"\"\"\n",
    "    def __init__(self, n_head, d_model, d_k, d_v, dropout = 0.1):\n",
    "        super(MultiHeadAttention, self).__init__()\n",
    "\n",
    "        self.n_head = n_head\n",
    "        self.d_k = d_k\n",
    "        self.d_v = d_v\n",
    "        \n",
    "        # Linear Transformations: y = x @ A^T + b\n",
    "        # Where the values inside A are trainable\n",
    "\n",
    "        # d_model - embedding size\n",
    "        # n_head - number of attention heads\n",
    "        # d_k - reduced feature space\n",
    "\n",
    "        self.w_qs = nn.Linear(d_model, n_head * d_k, bias = False)\n",
    "        self.w_ks = nn.Linear(d_model, n_head * d_k, bias = False)\n",
    "        self.w_vs = nn.Linear(d_model, n_head * d_v, bias = False)\n",
    "        self.fc = nn.Linear(n_head * d_v, d_model, bias = False)\n",
    "\n",
    "        # Initialize attention\n",
    "        self.attention = ScaledDotProductAttention(temperature = d_k ** 0.5)\n",
    "\n",
    "        # Dropout randomly deactivates neuron heads. This is used as a regularization\n",
    "        # technique and is effective to reduce overfitting.\n",
    "        self.dropout = nn.Dropout(dropout)\n",
    "\n",
    "        # Standard Scaler Normalization initialized.\n",
    "        # Eps is a value added to denominator and is used for increased stability\n",
    "        self.layer_norm = nn.LayerNorm(d_model, eps = 1e-6)\n",
    "\n",
    "    def forward(self, q, k, v, mask = None):\n",
    "        \"\"\"\n",
    "        q, k, v in the encoder layer is just the encodings\n",
    "        \n",
    "        sz_b -> size of the batch being processed.\n",
    "        len_q -> size of the phrase\n",
    "        len_k -> size of the phrase\n",
    "        v -> size of the phrase\n",
    "\n",
    "        Refer to Extra Material (a.) to understand the logic behind\n",
    "        these calculations\n",
    "        \"\"\"\n",
    "\n",
    "        d_k, d_v, n_head = self.d_k, self.d_v, self.n_head\n",
    "        sz_b, len_q, len_k, len_v = q.size(0), q.size(1), k.size(1), v.size(1)\n",
    "\n",
    "        # Retain the input to be added at latter stage (residual connection)\n",
    "        residual = q\n",
    "\n",
    "        # Obtain the Query, Key and Value matrices for all sentences in the batch\n",
    "        # and for all the attention heads\n",
    "        q = self.w_qs(q).view(sz_b, len_q, n_head, d_k)\n",
    "        k = self.w_ks(k).view(sz_b, len_k, n_head, d_k)\n",
    "        v = self.w_vs(v).view(sz_b, len_v, n_head, d_v)\n",
    "\n",
    "        # Transpose values to calculate self attention: batch x nheads x nwords x reduced_embedd\n",
    "        q, k, v = q.transpose(1, 2), k.transpose(1, 2), v.transpose(1, 2)\n",
    "\n",
    "        if mask is not None:\n",
    "            mask = mask.unsqueeze(1) # Head axis broadcasting\n",
    "\n",
    "        \n",
    "        # Perform the Scaled Dot Product Attention Calculation\n",
    "        q, attn = self.attention(q, k, v, mask = mask)\n",
    "\n",
    "        # Transpose to move the head dimension back: b x lq x n x dv\n",
    "        # Combine last two dimensions to concatenate all the heads together: b x lq x (n*dv)\n",
    "\n",
    "        # Return to the previous dimension order so we can include the residual connection\n",
    "        # We must maintain this order for consequent training reinjection\n",
    "        q = q.transpose(1, 2).contiguous().view(sz_b, len_q, -1)\n",
    "\n",
    "        # Not sure this last linear layer is necessary\n",
    "        q = self.dropout(self.fc(q))\n",
    "        \n",
    "        q += residual\n",
    "\n",
    "        # Perform layer normalization to each attention head ??? (revisit)\n",
    "        q = self.layer_norm(q)\n",
    "\n",
    "        # Attn is the calculation attention value (argument of the softmax)\n",
    "        # q if the output of the multihead attention layer.\n",
    "        return q, attn "
   ]
  },
  {
   "cell_type": "markdown",
   "metadata": {},
   "source": [
    "## 2.1 Multilayer Perceptron after the multi-head attention"
   ]
  },
  {
   "cell_type": "code",
   "execution_count": 11,
   "metadata": {},
   "outputs": [],
   "source": [
    "class PositionwiseFeedForward(nn.Module):\n",
    "    \"\"\" \n",
    "        Simple two-layer feed-forward network \n",
    "        e.g., Multi-layer Perceptron\n",
    "    \n",
    "    Input layer of dimension d_in passes to a hidden layer\n",
    "    of dimension d_hidden, recovering the original dimensionality\n",
    "    d_in.\n",
    "\n",
    "    \"\"\"\n",
    "\n",
    "    def __init__(self, d_in, d_hid, dropout = 0.1):\n",
    "        super(PositionwiseFeedForward, self).__init__()\n",
    "        self.w_1 = nn.Linear(d_in, d_hid) # position-wise-\n",
    "        self.w_2 = nn.Linear(d_hid, d_in) # position-wise\n",
    "\n",
    "        # Normalize layer \n",
    "        self.layer_norm = nn.LayerNorm(d_in, eps = 1e-6)\n",
    "\n",
    "        # Deactivates some neuron heads as a regularization technique\n",
    "        # It is used to prevent overfitting.\n",
    "        self.dropout = nn.Dropout(dropout)\n",
    "\n",
    "    def forward(self, x):\n",
    "        # Forward pass through the two layers with a residual connection\n",
    "        residual = x\n",
    "\n",
    "        x = self.w_2(F.relu(self.w_1(x)))\n",
    "        x = self.dropout(x)\n",
    "        x += residual\n",
    "\n",
    "        x = self.layer_norm(x)\n",
    "\n",
    "        return x"
   ]
  },
  {
   "cell_type": "markdown",
   "metadata": {},
   "source": [
    "# 3. Encoder/Decoder Implementations"
   ]
  },
  {
   "cell_type": "markdown",
   "metadata": {},
   "source": [
    "## 3.1 Encoder\n",
    "\n",
    "<img src=\"https://www.researchgate.net/profile/Ehsan-Amjadian/publication/352239001/figure/fig1/AS:1033334390013952@1623377525434/Detailed-view-of-a-transformer-encoder-block-It-first-passes-the-input-through-an.jpg\" alt=\"Encoder\" width=\"300\" height=\"auto\">"
   ]
  },
  {
   "cell_type": "code",
   "execution_count": 12,
   "metadata": {},
   "outputs": [],
   "source": [
    "class EncoderLayer(nn.Module):\n",
    "    \"\"\" \n",
    "    Encoder is built of a stack of Nx encoding layers.\n",
    "    Each of these layers is built of two sublayers,\n",
    "    a Multi-head Attention layers and a forward pass\n",
    "    FFN one.\n",
    "    \"\"\"\n",
    "    def __init__(self, d_model, d_inner, n_head, d_k, d_v, dropout = 0.1):\n",
    "        super(EncoderLayer, self).__init__()\n",
    "        self.slf_attn = MultiHeadAttention(n_head, d_model, d_k, d_v, dropout)\n",
    "        self.pos_ffn = PositionwiseFeedForward(d_model, d_inner, dropout)\n",
    "\n",
    "    def forward(self, enc_input, slf_attn_mask = None):\n",
    "        # Propagate the encoded phrases through the attention mechanism\n",
    "        enc_output, enc_slf_attn = self.slf_attn(enc_input, enc_input, enc_input, mask = slf_attn_mask)\n",
    "\n",
    "        # Propagate the output of the attention thought the MLP\n",
    "        enc_output = self.pos_ffn(enc_output)\n",
    "\n",
    "        return enc_output, enc_slf_attn"
   ]
  },
  {
   "cell_type": "markdown",
   "metadata": {},
   "source": [
    "## 3.2 Decoder\n",
    "\n",
    "<img src=\"https://res.cloudinary.com/edlitera/image/upload/c_fill,f_auto/v1680629118/blog/gz5ccspg3yvq4eo6xhrr\" alt=\"Decoder\" width=\"300\" height=\"auto\">"
   ]
  },
  {
   "cell_type": "code",
   "execution_count": 33,
   "metadata": {},
   "outputs": [],
   "source": [
    "class DecoderLayer(nn.Module):\n",
    "    \"\"\" \n",
    "    The decoder layer is built of two multi-head attention sublayers\n",
    "    followed by a MLP. The second attention head takes as inputs for the\n",
    "    Values and Keys the output from the encoder, and the output from the \n",
    "    first Self-attention head as Queries.\n",
    "    \"\"\"\n",
    "    def __init__(self, d_model, d_inner, n_head, d_k, d_v, dropout = 0.1):\n",
    "        super(DecoderLayer, self).__init__()\n",
    "        self.slf_attn = MultiHeadAttention(n_head, d_model, d_k, d_v, dropout)\n",
    "        self.enc_layer = MultiHeadAttention(n_head, d_model, d_k, d_v, dropout)\n",
    "        self.pos_ffn = PositionwiseFeedForward(d_model, d_inner, dropout)\n",
    "\n",
    "    def forward(self, dec_input, enc_output, slf_attn_mask = None, dec_enc_attn_mask = None):\n",
    "        # First Attention is self-attention (attention between word in output phrase)\n",
    "        dec_output, dec_slf_attn = self.slf_attn(dec_input, dec_input, dec_input, slf_attn_mask)\n",
    "\n",
    "        # Second Attention is cross-attention (compares the queries from self-attention with \n",
    "        # the keys from encoder) and uses values from decoder language\n",
    "        dec_output, dec_enc_attn = self.enc_attn(dec_output, enc_output, enc_output, dec_enc_attn_mask)\n",
    "\n",
    "        # Foward pass through a MLP\n",
    "        dec_output = self.pos_ffn(dec_output)\n",
    "\n",
    "        # Output after one pass through decoder, the self-attention, and the cross-attention values\n",
    "        return dec_output, dec_slf_attn, dec_enc_attn"
   ]
  },
  {
   "cell_type": "markdown",
   "metadata": {},
   "source": [
    "# 4. Build the Entire Model"
   ]
  },
  {
   "cell_type": "markdown",
   "metadata": {},
   "source": [
    "## 4.1 Positional Encoding"
   ]
  },
  {
   "cell_type": "markdown",
   "metadata": {},
   "source": [
    "It is important for the transformer to encode the information of the position of each word. For that, sinusoidal encoding are used deplying sine and cosine functions of different frequencies,"
   ]
  },
  {
   "cell_type": "markdown",
   "metadata": {},
   "source": [
    "$$ PE_{(pos, 2i)} = \\sin{(pos/10000^{2i/d_{model}})} $$\n",
    "$$ PE_{(pos, 2i+1)} = \\cos{(pos/10000^{2i/d_{model}})} $$"
   ]
  },
  {
   "cell_type": "code",
   "execution_count": 29,
   "metadata": {},
   "outputs": [],
   "source": [
    "class PositionalEncodings(nn.Module):\n",
    "    \"\"\"\n",
    "    Positinal encoding gives each word a positional embedding having\n",
    "    dimensions d_hid. N_position is the total number of words in the phrase.\n",
    "    \"\"\"\n",
    "    def __init__(self, d_hid, n_positions):\n",
    "        super(PositionalEncodings, self).__init__()\n",
    "\n",
    "        # Not trainable parameters, just a look-up table for the sinusoid encodings\n",
    "        # register_buffer assures these values are not trainable\n",
    "        self.register_buffer('pos_table', self._get_sinusoid_encoding_table(n_positions, d_hid))\n",
    "\n",
    "    def _get_sinusoid_encoding_table(self, n_position, d_hid):\n",
    "        \"\"\" Sinusoid Position Encoding \"\"\"\n",
    "\n",
    "        def get_position_angle_vec(position):\n",
    "            # We uses (i // 2) to have repeated values in the same array and perform the \n",
    "            # sin and cos for each\n",
    "            return [position/np.power(10000, 2 * (i // 2) / d_hid) for i in range(d_hid)]\n",
    "        \n",
    "        sinusoid_table = np.array([get_position_angle_vec(pos_i) for pos_i in range(n_position)])\n",
    "        sinusoid_table[:, 0::2] = np.sin(sinusoid_table[:, 0::2]) # dim 2i\n",
    "        sinusoid_table[:, 1::2] = np.cos(sinusoid_table[:, 1::2]) # dim 2i + 1\n",
    "\n",
    "        return torch.FloatTensor(sinusoid_table).unsqueeze(0)\n",
    "\n",
    "    def forward(self, x):\n",
    "        return x + self.pos_table[:, :x.size(1)].clone().detach"
   ]
  },
  {
   "cell_type": "markdown",
   "metadata": {},
   "source": [
    "## 4.2 Encoder Implementation"
   ]
  },
  {
   "cell_type": "code",
   "execution_count": 30,
   "metadata": {},
   "outputs": [],
   "source": [
    "class Encoder(nn.Module):\n",
    "    \"\"\" Stack all the Encoder Layers \"\"\"\n",
    "\n",
    "    def __init__(self, n_src_vocab, d_word_vec, n_layers, n_head, d_k, d_v, \n",
    "                 d_model, d_inner, pad_idx, dropout = 0.1, n_position = 200, scale_emb = False):\n",
    "        \n",
    "        super(Encoder, self).__init__()\n",
    "\n",
    "        # Word Embedder (size source vocab, embedding size)\n",
    "        self.src_word_emb = nn.Embedding(n_src_vocab, d_word_vec, padding_idx = pad_idx)\n",
    "\n",
    "        # Add the positional encoding to each word. \n",
    "        # d_word_vec is the size of the positional enconding vector\n",
    "        self.position_enc = PositionalEncodings(d_word_vec, n_position)\n",
    "        self.dropout = nn.Dropout(dropout)\n",
    "\n",
    "        # Stack n_layers of Encoding\n",
    "        self.layer_stack = nn.ModuleList([\n",
    "            EncoderLayer(d_model, d_inner, n_head, d_k, d_v, dropout) for _ in range(n_layers)])\n",
    "        \n",
    "        # Finalize with a layers normalization\n",
    "        self.layer_norm = nn.LayerNorm(d_model, eps = 1e-6)\n",
    "        self.scale_emb = scale_emb\n",
    "        self.d_model = d_model\n",
    "\n",
    "    def forward(self, src_seq, src_mask, return_attns = False):\n",
    "\n",
    "        enc_slf_attn_list = []\n",
    "        \n",
    "        # Word Embedding\n",
    "        enc_output = self.src_word_emb(src_seq)\n",
    "        if self.scale_emb:\n",
    "            enc_output *= self.d_model ** 0.5\n",
    "        \n",
    "        # Add Positional Embedding\n",
    "        enc_output = self.dropout(self.position_enc(enc_output))\n",
    "        enc_output = self.layer_norm(enc_output)\n",
    "\n",
    "        for enc_output in self.layer_stack:\n",
    "            enc_output, enc_slf_attn = enc_layer = (enc_output, src_mask)\n",
    "            enc_slf_attn_list += [enc_slf_attn] if return_attns else []\n",
    "\n",
    "        if return_attns:\n",
    "            return enc_output, enc_slf_attn_list\n",
    "        else:\n",
    "            return enc_output        "
   ]
  },
  {
   "cell_type": "markdown",
   "metadata": {},
   "source": [
    "## 4.3 Decoder Implementation"
   ]
  },
  {
   "cell_type": "code",
   "execution_count": 35,
   "metadata": {},
   "outputs": [],
   "source": [
    "class Decoder(nn.Module):\n",
    "    def __init__(self, n_trg_vocab, d_word_vec, n_layers, n_head, d_k, d_v,\n",
    "    d_model, d_inner, pad_idx, n_positions = 200, dropout = 0.1, scale_emb = False):\n",
    "\n",
    "        super(Decoder, self).__init__()\n",
    "\n",
    "        # Target Vocabulary Encoding\n",
    "        self.trg_wrd_emb = nn.Embedding(n_trg_vocab, d_word_vec, pad_idx)\n",
    "\n",
    "        # Positional Encoding\n",
    "        self.position_enc = PositionalEncodings(d_word_vec, n_positions)\n",
    "        self.dropout = nn.Dropout(dropout)\n",
    "        self.layer_stack([\n",
    "            DecoderLayer(d_model, d_inner, n_head, d_k, d_v, dropout) for _ in range(n_layers)])\n",
    "        \n",
    "        self.layer_norm = nn.LayerNorm(d_model, eps = 1e-6)\n",
    "        self.scale_emb = scale_emb\n",
    "        self.d_model = d_model\n",
    "\n",
    "    def forward(self, trg_seq, trg_mask, enc_output, src_mask, return_attns = False):\n",
    "\n",
    "        dec_self_attn_list, dec_enc_attn_list = [], []\n",
    "        \n",
    "        dec_output = self.trg_word_emb(trg_seq)\n",
    "\n",
    "        if self.scale_emb:\n",
    "            dec_output *= self.d_model**0.5\n",
    "\n",
    "        dec_output = self.positional_enc(dec_output)\n",
    "        dec_output = self.layer_norm(enc_output)\n",
    "\n",
    "        ## Embedding Complete\n",
    "\n",
    "        for dec_layer in self.layers_stack:\n",
    "            dec_output, dec_slf_attn, dec_enc_attn = dec_layer(\n",
    "                dec_output, enc_output, trg_mask, src_mask)\n",
    "            dec_slf_attn_list += [dec_slf_attn] if return_attns else []\n",
    "            dec_enc_attn_list += [dec_enc_attn] if return_attns else []\n",
    "\n",
    "        if return_attns:\n",
    "            return dec_output, dec_slf_attn_list, dec_enc_attn_list\n",
    "        else:\n",
    "            return dec_output"
   ]
  },
  {
   "cell_type": "markdown",
   "metadata": {},
   "source": [
    "# 5. Built the Transformer Model"
   ]
  },
  {
   "cell_type": "markdown",
   "metadata": {},
   "source": [
    "<img src=\"https://production-media.paperswithcode.com/methods/new_ModalNet-21.jpg\" alt=\"Transformer\" width=\"300\" height=\"auto\">"
   ]
  },
  {
   "cell_type": "code",
   "execution_count": 34,
   "metadata": {},
   "outputs": [],
   "source": [
    "def get_pad_mask(seq, pad_idx):\n",
    "    return (seq != pad_idx).unsqueeze(-2)\n",
    "\n",
    "\n",
    "def get_subsequent_mask(seq):\n",
    "    ''' For masking out the subsequent info. '''\n",
    "    sz_b, len_s = seq.size()\n",
    "    subsequent_mask = (1 - torch.triu(\n",
    "        torch.ones((1, len_s, len_s), device=seq.device), diagonal=1)).bool()\n",
    "    return subsequent_mask"
   ]
  },
  {
   "cell_type": "code",
   "execution_count": 39,
   "metadata": {},
   "outputs": [],
   "source": [
    "class Transformer(nn.Module):\n",
    "    def __init__(\n",
    "        self, n_src_vocab, n_trg_vocab, src_pad_idx, trg_pad_idx, \n",
    "        d_word_vec = 512, d_model = 512, d_inner = 2048, n_layers = 6, \n",
    "        n_head = 8, d_k = 64, d_v = 64, dropout = 0.1, n_position = 200,\n",
    "        trg_emb_proj_weight_sharing = True, src_emb_proj_weight_sharing = True,\n",
    "        scaled_emb_or_prj = 'prj'):\n",
    "\n",
    "        super(Transformer, self).__init__()\n",
    "\n",
    "        self.src_pad_idx, self.trg_pad_idx = src_pad_idx, trg_pad_idx\n",
    "\n",
    "        # In section 3.4 of paper \"Attention Is All You Need\", there is such detail:\n",
    "        # \"In our model, we share the same weight matrix between the two\n",
    "        #  embedding layers and the pre-softmax linear transformation...\n",
    "        # In the embedding layers, we multiply those weights by \\sqrt{d_model}\".\n",
    "        #\n",
    "        # Options here:\n",
    "        #   'emb': multiply \\sqrt{d_model} to embedding output\n",
    "        #   'prj': multiply (\\sqrt{d_model} ^ -1) to linear projection output\n",
    "        #   'none': no multiplication\n",
    "\n",
    "        assert scaled_emb_or_prj in ['emb', 'prj', 'none']\n",
    "        scale_emb = (scaled_emb_or_prj == 'emb') if trg_emb_proj_weight_sharing else False\n",
    "        self.scale_proj = (scaled_emb_or_prj == 'proj') if trg_emb_proj_weight_sharing else False\n",
    "        self.d_model = d_model\n",
    "\n",
    "        self.encoder = Encoder(\n",
    "            n_src_vocab, n_position, d_word_vec, d_model, d_inner, \n",
    "            n_layers, n_head, d_k, d_v, src_pad_idx, dropout, scale_emb)\n",
    "\n",
    "        self.decoder = Decoder(\n",
    "            n_trg_vocab, n_position, d_word_vec, d_model, d_inner,\n",
    "            n_layers, n_head, d_k, d_v, trg_pad_idx, dropout, scale_emb)\n",
    "\n",
    "        self.trg_word_prj = nn.Linear(d_model, n_trg_vocab, bias = False)\n",
    "\n",
    "        for p in self.parameters():\n",
    "            if p.dim() > 1:\n",
    "                nn.init.xavier_uniform_(p)\n",
    "\n",
    "        assert d_model == d_word_vec\n",
    "        \"\"\"\n",
    "        To facilitate residual connections, the dimensions of all\n",
    "        module outputs should be the same\n",
    "        \"\"\"\n",
    "\n",
    "        if trg_emb_prj_weight_sharing:\n",
    "            # Share the weight between target word embedding & last dense layer\n",
    "            self.trg_word_prj.weight = self.decoder.trg_word_emb.weight\n",
    "\n",
    "        if trg_emb_prj_weight_sharing:\n",
    "            self.encoder.src_word_emb.weight = self.decoder.trg_word_emb.weight\n",
    "\n",
    "    def forward(self, src_seq, trg_seq):\n",
    "        \n",
    "        src_mask = get_pad_mask(src_seq, self.src_pad_idx)\n",
    "        trg_mask = get_pad_mask(trg_seq, self.trg_pad_idx) & get_subsequent_mask(trg_seq)\n",
    "\n",
    "        enc_output, *_ = self.encoder(src_seq, src_mask)\n",
    "        dec_output, *_ = self.decoder(trg_seq, trg_mask, enc_output, src_mask)\n",
    "        seq_logit = self.trg_word_prj(dec_output)\n",
    "        if self.scale_prj:\n",
    "            seq_logit *= self.d_model ** -0.5\n",
    "\n",
    "        return seq_logit.view(-1, seq_logit.size(2))"
   ]
  },
  {
   "cell_type": "markdown",
   "metadata": {},
   "source": [
    "# ! Extra Material"
   ]
  },
  {
   "cell_type": "markdown",
   "metadata": {},
   "source": [
    "## a. understand Query, Key and Value matrices"
   ]
  },
  {
   "cell_type": "code",
   "execution_count": 158,
   "metadata": {},
   "outputs": [],
   "source": [
    "d_model = 12000\n",
    "n_head = 6 \n",
    "d_k = 128\n",
    "b_size = 3\n",
    "max_phrase_size = 5\n",
    "test_l = nn.Linear(d_model, d_k * n_head, bias = False)\n",
    "test = test_l.get_parameter('weight')\n",
    "embedd = torch.randn(b_size, max_phrase_size, d_model)"
   ]
  },
  {
   "cell_type": "code",
   "execution_count": 159,
   "metadata": {},
   "outputs": [
    {
     "data": {
      "text/plain": [
       "torch.Size([768, 12000])"
      ]
     },
     "execution_count": 159,
     "metadata": {},
     "output_type": "execute_result"
    }
   ],
   "source": [
    "test.size()"
   ]
  },
  {
   "cell_type": "code",
   "execution_count": 160,
   "metadata": {},
   "outputs": [
    {
     "data": {
      "text/plain": [
       "torch.Size([3, 5, 6, 128])"
      ]
     },
     "execution_count": 160,
     "metadata": {},
     "output_type": "execute_result"
    }
   ],
   "source": [
    "test_l(embedd).view(b_size, max_phrase_size, n_head, d_k).size()"
   ]
  },
  {
   "cell_type": "markdown",
   "metadata": {},
   "source": [
    "#### <span style=\"color:red\">NOTE:</span> After this calculation we just transpose dimensions 1 and 2 and obtain the Q, K and V matrices for 3 batches, each having 6 attention heads for phrases of length 5 where each word has and embedding size of 128"
   ]
  },
  {
   "cell_type": "markdown",
   "metadata": {},
   "source": [
    "## b. understand word Embedding"
   ]
  },
  {
   "cell_type": "code",
   "execution_count": 117,
   "metadata": {},
   "outputs": [],
   "source": [
    "n_src_vocab = 5000\n",
    "d_word_vec = 128\n",
    "src_word_emb = nn.Embedding(n_src_vocab, d_word_vec)"
   ]
  },
  {
   "cell_type": "code",
   "execution_count": 146,
   "metadata": {},
   "outputs": [
    {
     "data": {
      "text/plain": [
       "[0, 3, 4999]"
      ]
     },
     "execution_count": 146,
     "metadata": {},
     "output_type": "execute_result"
    }
   ],
   "source": [
    "vocab = {\"cake\": 0, \"there\": 1, \"hey\": 2, \"is\": 3, \"good\": 4999}\n",
    "word_indexes = [vocab[w] for w in [\"cake\", \"is\", \"good\"]]\n",
    "word_indexes"
   ]
  },
  {
   "cell_type": "code",
   "execution_count": 147,
   "metadata": {},
   "outputs": [
    {
     "data": {
      "text/plain": [
       "torch.Size([3, 128])"
      ]
     },
     "execution_count": 147,
     "metadata": {},
     "output_type": "execute_result"
    }
   ],
   "source": [
    "word_vectors = src_word_emb(torch.tensor(word_indexes))\n",
    "word_vectors.size()"
   ]
  },
  {
   "cell_type": "code",
   "execution_count": null,
   "metadata": {},
   "outputs": [],
   "source": []
  }
 ],
 "metadata": {
  "kernelspec": {
   "display_name": "base",
   "language": "python",
   "name": "python3"
  },
  "language_info": {
   "codemirror_mode": {
    "name": "ipython",
    "version": 3
   },
   "file_extension": ".py",
   "mimetype": "text/x-python",
   "name": "python",
   "nbconvert_exporter": "python",
   "pygments_lexer": "ipython3",
   "version": "3.10.14"
  }
 },
 "nbformat": 4,
 "nbformat_minor": 2
}
