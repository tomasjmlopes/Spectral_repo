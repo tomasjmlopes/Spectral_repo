{
 "cells": [
  {
   "cell_type": "code",
   "execution_count": 1,
   "metadata": {},
   "outputs": [],
   "source": [
    "import torch\n",
    "import torch.nn as nn\n",
    "import torch.nn.functional as F"
   ]
  },
  {
   "cell_type": "markdown",
   "metadata": {},
   "source": [
    "# 1. Implement Self Attention Mechanism"
   ]
  },
  {
   "cell_type": "markdown",
   "metadata": {},
   "source": [
    "$$ \\text{SoftMax} \\left( \\frac{\\frac{Q}{T}K^T}{\\sqrt{d_K}}\\right) V $$"
   ]
  },
  {
   "cell_type": "code",
   "execution_count": 3,
   "metadata": {},
   "outputs": [],
   "source": [
    "class ScaledDotProductAttention(nn.Module):\n",
    "    \"\"\" Scaled Dot Product Attention \"\"\"\n",
    "    def __init__(self, temperature, attn_dropout = 0.1):\n",
    "        super(ScaledDotProductAttention).__init__()\n",
    "        self.temperature = temperature\n",
    "        self.dropout = nn.Dropout(attn_dropout)\n",
    "\n",
    "    def forward(self, q, k, v, mask = None):\n",
    "        attn = torch.matmul(q/self.temperature, k.transpose(2, 3))\n",
    "\n",
    "        if mask is not None:\n",
    "            attn = attn.masked_fill(mask == 0, -1e9)\n",
    "\n",
    "        attn = self.dropout(F.softmax(attn, dim = -1))\n",
    "        output = torch.matmul(attn, v)\n",
    "\n",
    "        return output, attn"
   ]
  },
  {
   "cell_type": "markdown",
   "metadata": {},
   "source": [
    "# 2. Implement Multi-Head Attention"
   ]
  },
  {
   "cell_type": "markdown",
   "metadata": {},
   "source": [
    "Run several scaled dot product attention, each mapping to a different feature map, meaning each has its own Q, K, and V matrices"
   ]
  },
  {
   "cell_type": "code",
   "execution_count": 9,
   "metadata": {},
   "outputs": [],
   "source": [
    "class MultiHeadaAttention(nn.Module):\n",
    "    \"\"\" Multi-Head Attention \"\"\"\n",
    "    def __init__(self, n_head, d_model, d_k, d_v, dropout = 0.1):\n",
    "        super(MultiHeadaAttention).__init__()\n",
    "\n",
    "        self.n_head = n_head\n",
    "        self.d_k = d_k\n",
    "        self.d_v = d_v\n",
    "        \n",
    "        # Linear Transformations: y = x @ A^T + b\n",
    "        # Where the values inside A are trainable\n",
    "\n",
    "        # d_model - dictionary size\n",
    "        # n_head - number of attention heads\n",
    "        # d_k - feaure map dimension\n",
    "\n",
    "        self.w_qs = nn.Linear(d_model, n_head * d_k, bias = False) \n",
    "        self.w_ks = nn.Linear(d_model, n_head * d_k, bias = False)\n",
    "        self.w_vs = nn.Linear(d_model, n_head * d_v, bias = False)\n",
    "        self.fc = nn.Linear(n_head * d_v, d_model, bias = False)\n",
    "\n",
    "        self.attention = ScaledDotProductAttention(temperature = d_k ** 0.5)\n",
    "\n",
    "        self.dropout = nn.Dropout(dropout)\n",
    "        self.layer_norm = nn.LayerNorm(d_model, eps = 1e-6)\n",
    "\n",
    "    def forward(self, q, k, v, mask = None):\n",
    "\n",
    "        d_k, d_v, n_head = self.d_k, self.d_v, self.n_head\n",
    "        sz_b, len_q, len_k, len_v = q.size(0), q.size(1), k.size(1), v.size(1)\n",
    "\n",
    "        residual = q\n",
    "\n",
    "        # Multiply q by repective weights and reshape\n",
    "        q = self.w_qs(q).view(sz_b, len_q, n_head, d_k) # Splits the matrix into the various attention heads\n",
    "        k = self.w_ks(k).view(sz_b, len_k, n_head, d_k)\n",
    "        v = self.w_vs(v).view(sz_b, len_v, n_head, d_v)\n",
    "\n",
    "        # Transpose values to calculate self attention: b x n x lq x dv\n",
    "        q, k, v = q.transpose(1, 2), k.transpose(1, 2), v.transpose(1, 2)\n",
    "\n",
    "        if mask is not None:\n",
    "            mask = mask.unsqueeze(1) # Head axis broadcasting\n",
    "\n",
    "        q, attn = self.attention(q, k, v, mask = mask)\n",
    "\n",
    "        # Transpose to move the head dimension back: b x lq x n x dv\n",
    "        # Combine last two dimensions to concatenate all the heads together: b x lq x (n*dv)\n",
    "\n",
    "        q = q.transpose(1, 2).contiguous().view(sz_b, len_q, -1)\n",
    "        q = self.dropout(self.fc(q))\n",
    "        q += residual\n",
    "\n",
    "        q = self.layer_norm(q)\n",
    "\n",
    "        return q, attn"
   ]
  },
  {
   "cell_type": "markdown",
   "metadata": {},
   "source": [
    "## 2.1 Multilayer Perceptron after the multi-head attention"
   ]
  },
  {
   "cell_type": "code",
   "execution_count": 8,
   "metadata": {},
   "outputs": [],
   "source": [
    "class PositionwiseFeedForward(nn.Module):\n",
    "    \"\"\" Two-feed-forward-layer module \"\"\"\n",
    "\n",
    "    def __init__(self, d_in, d_hid, dropout = 0.1):\n",
    "        super(PositionwiseFeedForward).__init__()\n",
    "        self.w_1 = nn.Linear(d_in, d_hid) # position-wise\n",
    "        self.w_2 = nn.Linear(d_hid, d_in) # position-wise\n",
    "        self.layer_norm = nn.LayerNorm(d_in, eps = 1e-6)\n",
    "        self.dropout = nn.Dropout(dropout)\n",
    "\n",
    "    def forward(self, x):\n",
    "\n",
    "        residual = x\n",
    "\n",
    "        x = self.w_2(F.relu(self.w_1(x)))\n",
    "        x = self.dropout(x)\n",
    "        x += residual\n",
    "\n",
    "        x = self.layer_norm(x)\n",
    "\n",
    "        return x"
   ]
  },
  {
   "cell_type": "markdown",
   "metadata": {},
   "source": [
    "# 3. Encoder/Decoder Implementations"
   ]
  },
  {
   "cell_type": "markdown",
   "metadata": {},
   "source": [
    "## 3.1 Encoder"
   ]
  },
  {
   "cell_type": "code",
   "execution_count": 11,
   "metadata": {},
   "outputs": [],
   "source": [
    "class EncoderLayer(nn.Module):\n",
    "    \"\"\" Composed of Two Layers \"\"\"\n",
    "    def __init__(self, d_model, d_inner, n_head, d_k, d_v, dropout = 0.1):\n",
    "        super(EncoderLayer).__init__()\n",
    "        self.slf_attn = MultiHeadaAttention(n_head, d_model, d_k, d_v, dropout)\n",
    "        self.pos_ffn = PositionwiseFeedForward(d_model, d_inner, dropout)\n",
    "\n",
    "    def forward(self, enc_input, slf_attn_mask = None):\n",
    "        enc_output, enc_slf_attn = self.slf_attn(enc_input, enc_input, mask = slf_attn_mask)\n",
    "        enc_output = self.pos_ffn(enc_output)\n",
    "\n",
    "        return enc_output, enc_slf_attn"
   ]
  },
  {
   "cell_type": "markdown",
   "metadata": {},
   "source": [
    "## 3.2 Decoder"
   ]
  },
  {
   "cell_type": "code",
   "execution_count": 12,
   "metadata": {},
   "outputs": [],
   "source": [
    "class DecoderLayer(nn.Module):\n",
    "    \"\"\" Composed of Three Layers \"\"\"\n",
    "    def __init__(self, d_model, d_inner, n_head, d_k, d_v, dropout = 0.1):\n",
    "        super(DecoderLayer).__init__()\n",
    "        self.slf_attn = MultiHeadAttention(n_head, d_model, d_k, d_v, dropout)\n",
    "        self.enc_layer = MultiHeadAttention(n_head, d_model, d_k, d_v, dropout)\n",
    "        self.pos_ffn = PositionwiseFeedForward(d_model, d_inner, dropout)"
   ]
  },
  {
   "cell_type": "code",
   "execution_count": null,
   "metadata": {},
   "outputs": [],
   "source": []
  }
 ],
 "metadata": {
  "kernelspec": {
   "display_name": "base",
   "language": "python",
   "name": "python3"
  },
  "language_info": {
   "codemirror_mode": {
    "name": "ipython",
    "version": 3
   },
   "file_extension": ".py",
   "mimetype": "text/x-python",
   "name": "python",
   "nbconvert_exporter": "python",
   "pygments_lexer": "ipython3",
   "version": "3.10.14"
  }
 },
 "nbformat": 4,
 "nbformat_minor": 2
}
