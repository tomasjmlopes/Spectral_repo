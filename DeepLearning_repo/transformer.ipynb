{
 "cells": [
  {
   "cell_type": "code",
   "execution_count": 1,
   "metadata": {},
   "outputs": [],
   "source": [
    "import torch\n",
    "import torch.nn as nn\n",
    "import torch.nn.functional as F"
   ]
  },
  {
   "cell_type": "markdown",
   "metadata": {},
   "source": [
    "# 1. Implement Scaled Dot Product Attention Mechanism"
   ]
  },
  {
   "cell_type": "markdown",
   "metadata": {},
   "source": [
    "$$ \\text{SoftMax} \\left( \\frac{Q}{T_e}K^T\\right) V, \\quad T_e = \\sqrt{d_k}$$"
   ]
  },
  {
   "cell_type": "code",
   "execution_count": 2,
   "metadata": {},
   "outputs": [],
   "source": [
    "class ScaledDotProductAttention(nn.Module):\n",
    "    \"\"\" Scaled Dot Product Attention \"\"\"\n",
    "    def __init__(self, temperature, attn_dropout = 0.1):\n",
    "        super(ScaledDotProductAttention).__init__()\n",
    "        self.temperature = temperature\n",
    "        self.dropout = nn.Dropout(attn_dropout)\n",
    "\n",
    "    def forward(self, q, k, v, mask = None):\n",
    "        attn = torch.matmul(q/self.temperature, k.transpose(2, 3))\n",
    "\n",
    "        if mask is not None:\n",
    "            attn = attn.masked_fill(mask == 0, -1e9)\n",
    "\n",
    "        attn = self.dropout(F.softmax(attn, dim = -1))\n",
    "        output = torch.matmul(attn, v)\n",
    "\n",
    "        return output, attn"
   ]
  },
  {
   "cell_type": "markdown",
   "metadata": {},
   "source": [
    "# 2. Implement Multi-Head Attention"
   ]
  },
  {
   "cell_type": "markdown",
   "metadata": {},
   "source": [
    "### Run several scaled dot product attention, each mapping to a different feature map, meaning each has its own Q, K, and V matrices.\n",
    "\n",
    "- $ d_{model} \\rightarrow $ dimensionality of the representation of each token. In other words it is the number of values that are associated with a word. [Embedding Space]\n",
    "\n",
    "- $ d_k \\rightarrow $ feature space of reduced dimensionality. It represents an extraction of some sort of information from the complete dimensionality  $d_{model}$\n",
    "\n",
    "- $ d_v \\rightarrow w_V $ represents the matrix that when multiplied by the embedding ($d_{model}$) return the value vector. The value vector is what must be added to the original embedding to provide context\n",
    "\n"
   ]
  },
  {
   "cell_type": "markdown",
   "metadata": {},
   "source": [
    "$$ {W_Q}_{\\text{Multi-head}} =\n",
    "\\left(\n",
    "  \\begin{array}{c|c|c|c}\n",
    "      &     &        &             \\\\\n",
    "  {W_Q}_1 & {W_Q}_2 & \\cdots & {W_Q}_{n_{Heads}} \\\\\n",
    "      &     &        &  \n",
    "\\end{array} \\right), \\quad\n",
    "\n",
    "{W_K}_{\\text{Multi-head}} =\n",
    "\\left(\n",
    "  \\begin{array}{c|c|c|c}\n",
    "      &     &        &             \\\\\n",
    "  {W_K}_1 & {W_K}_2 & \\cdots & {W_K}_{n_{Heads}} \\\\\n",
    "      &     &        &  \n",
    "\\end{array} \\right), \\quad\n",
    "\n",
    "{W_V}_{\\text{Multi-head}} =\n",
    "\\left(\n",
    "  \\begin{array}{c|c|c|c}\n",
    "      &     &        &             \\\\\n",
    "  {W_V}_1 & {W_V}_2 & \\cdots & {W_V}_{n_{Heads}} \\\\\n",
    "      &     &        &  \n",
    "\\end{array} \\right)\n",
    "$$\n",
    "\n",
    "$${W_Q}_x, {W_K}_x \\quad \\text{have dimensions} \\quad (d_k \\times d_{model})$$\n",
    "$${W_V}_x \\quad \\text{has dimensions} \\quad (d_{model} \\times d_{model})$$"
   ]
  },
  {
   "cell_type": "markdown",
   "metadata": {},
   "source": [
    "This way $W_V$ has many more paramenters than $W_Q$ and $W_K$ so it is often split into two matrices ${W_V}_{\\uparrow}$, and ${W_V}_{\\downarrow}$\n",
    "\n",
    "Then, instead of having:\n",
    "$$ {W_V}_1 \\times E_{token}, \\quad \\text{we write} \\quad {W_V}_{1\\uparrow} \\times {W_V}_{1\\downarrow} \\times E_{token}$$\n",
    "\n",
    "Here ${W_V}_{\\uparrow}$ has dimensions $(d_{model} \\times d_v)$, and ${W_V}_{\\downarrow}$ has dimensions $(d_v \\times d_{model})$\n",
    "\n",
    "<sub>*notation for matrix dimensions is (rows x columns). Here we are considering $W \\times E_\\uparrow$ but nn.Linear() is actually more similar to $E_\\rightarrow \\times W^T$</sub>"
   ]
  },
  {
   "cell_type": "code",
   "execution_count": 162,
   "metadata": {},
   "outputs": [],
   "source": [
    "class MultiHeadAttention(nn.Module):\n",
    "    \"\"\" Multi-Head Attention \"\"\"\n",
    "    def __init__(self, n_head, d_model, d_k, d_v, dropout = 0.1):\n",
    "        super(MultiHeadAttention).__init__()\n",
    "\n",
    "        self.n_head = n_head\n",
    "        self.d_k = d_k\n",
    "        self.d_v = d_v\n",
    "        \n",
    "        # Linear Transformations: y = x @ A^T + b\n",
    "        # Where the values inside A are trainable\n",
    "\n",
    "        # d_model - embedding size\n",
    "        # n_head - number of attention heads\n",
    "        # d_k - reduced feature space\n",
    "\n",
    "        self.w_qs = nn.Linear(d_model, n_head * d_k, bias = False)\n",
    "        self.w_ks = nn.Linear(d_model, n_head * d_k, bias = False)\n",
    "        self.w_vs = nn.Linear(d_model, n_head * d_v, bias = False)\n",
    "        self.fc = nn.Linear(n_head * d_v, d_model, bias = False)\n",
    "\n",
    "        # Initialize attention\n",
    "        self.attention = ScaledDotProductAttention(temperature = d_k ** 0.5)\n",
    "\n",
    "        # Dropout randomly deactivates neuron heads. This is used as a regularization\n",
    "        # technique and is effective in reducing overfitting.\n",
    "        self.dropout = nn.Dropout(dropout)\n",
    "\n",
    "        # Standard Scaler Normalization initialized.\n",
    "        # Eps is a value added to denominator and is used for increased stability\n",
    "        self.layer_norm = nn.LayerNorm(d_model, eps = 1e-6)\n",
    "\n",
    "    def forward(self, q, k, v, mask = None):\n",
    "        \"\"\"\n",
    "        q, k, v in the encoder layer is just the encoddings\n",
    "        \n",
    "        sz_b -> size of the batch being processed.\n",
    "        len_q -> size of the phrase\n",
    "        len_k -> size of the phrase\n",
    "        v -> size of the phrase\n",
    "\n",
    "        Refer to Extra Material (a.) to understand the logic behind\n",
    "        this calculations\n",
    "        \"\"\"\n",
    "\n",
    "        d_k, d_v, n_head = self.d_k, self.d_v, self.n_head\n",
    "        sz_b, len_q, len_k, len_v = q.size(0), q.size(1), k.size(1), v.size(1)\n",
    "\n",
    "        # Retain the input to be added in front (residual connection)\n",
    "        residual = q\n",
    "\n",
    "        # Obtain the Query, Key and Value matrices for all sentences in the batch\n",
    "        # and for all the attention heads\n",
    "        q = self.w_qs(q).view(sz_b, len_q, n_head, d_k)\n",
    "        k = self.w_ks(k).view(sz_b, len_k, n_head, d_k)\n",
    "        v = self.w_vs(v).view(sz_b, len_v, n_head, d_v)\n",
    "\n",
    "        # Transpose values to calculate self attention: batch x nheads x nwords x reduced_embedd\n",
    "        q, k, v = q.transpose(1, 2), k.transpose(1, 2), v.transpose(1, 2)\n",
    "\n",
    "        if mask is not None:\n",
    "            mask = mask.unsqueeze(1) # Head axis broadcasting\n",
    "\n",
    "        \n",
    "        # Perform the Scaled Dot Product Attention Calculation\n",
    "        q, attn = self.attention(q, k, v, mask = mask)\n",
    "\n",
    "        # Transpose to move the head dimension back: b x lq x n x dv\n",
    "        # Combine last two dimensions to concatenate all the heads together: b x lq x (n*dv)\n",
    "\n",
    "        # Return to the previous dimension order so we can include the residual connection\n",
    "        # We must maintain this order for consequent training reinjection\n",
    "        q = q.transpose(1, 2).contiguous().view(sz_b, len_q, -1)\n",
    "        q = self.dropout(self.fc(q))\n",
    "        q += residual\n",
    "\n",
    "        # Perform layer normalization to each attention head ??? (revisit)\n",
    "        q = self.layer_norm(q)\n",
    "\n",
    "        # Attn is the calculation attention value (argument of the softmax)\n",
    "        # q if the output of the multihead attention layer.\n",
    "        return q, attn "
   ]
  },
  {
   "cell_type": "markdown",
   "metadata": {},
   "source": [
    "## 2.1 Multilayer Perceptron after the multi-head attention"
   ]
  },
  {
   "cell_type": "code",
   "execution_count": 4,
   "metadata": {},
   "outputs": [],
   "source": [
    "class PositionwiseFeedForward(nn.Module):\n",
    "    \"\"\" Two-feed-forward-layer module \"\"\"\n",
    "\n",
    "    def __init__(self, d_in, d_hid, dropout = 0.1):\n",
    "        super(PositionwiseFeedForward).__init__()\n",
    "        self.w_1 = nn.Linear(d_in, d_hid) # position-wise\n",
    "        self.w_2 = nn.Linear(d_hid, d_in) # position-wise\n",
    "        self.layer_norm = nn.LayerNorm(d_in, eps = 1e-6)\n",
    "        self.dropout = nn.Dropout(dropout)\n",
    "\n",
    "    def forward(self, x):\n",
    "\n",
    "        residual = x\n",
    "\n",
    "        x = self.w_2(F.relu(self.w_1(x)))\n",
    "        x = self.dropout(x)\n",
    "        x += residual\n",
    "\n",
    "        x = self.layer_norm(x)\n",
    "\n",
    "        return x"
   ]
  },
  {
   "cell_type": "markdown",
   "metadata": {},
   "source": [
    "# 3. Encoder/Decoder Implementations"
   ]
  },
  {
   "cell_type": "markdown",
   "metadata": {},
   "source": [
    "## 3.1 Encoder"
   ]
  },
  {
   "cell_type": "code",
   "execution_count": 7,
   "metadata": {},
   "outputs": [],
   "source": [
    "class EncoderLayer(nn.Module):\n",
    "    \"\"\" Composed of Two Layers \"\"\"\n",
    "    def __init__(self, d_model, d_inner, n_head, d_k, d_v, dropout = 0.1):\n",
    "        super(EncoderLayer).__init__()\n",
    "        self.slf_attn = MultiHeadAttention(n_head, d_model, d_k, d_v, dropout)\n",
    "        self.pos_ffn = PositionwiseFeedForward(d_model, d_inner, dropout)\n",
    "\n",
    "    def forward(self, enc_input, slf_attn_mask = None):\n",
    "        enc_output, enc_slf_attn = self.slf_attn(enc_input, enc_input, enc_input, mask = slf_attn_mask)\n",
    "        enc_output = self.pos_ffn(enc_output)\n",
    "\n",
    "        return enc_output, enc_slf_attn"
   ]
  },
  {
   "cell_type": "markdown",
   "metadata": {},
   "source": [
    "## 3.2 Decoder"
   ]
  },
  {
   "cell_type": "code",
   "execution_count": 8,
   "metadata": {},
   "outputs": [],
   "source": [
    "class DecoderLayer(nn.Module):\n",
    "    \"\"\" Composed of Three Layers \"\"\"\n",
    "    def __init__(self, d_model, d_inner, n_head, d_k, d_v, dropout = 0.1):\n",
    "        super(DecoderLayer).__init__()\n",
    "        self.slf_attn = MultiHeadAttention(n_head, d_model, d_k, d_v, dropout)\n",
    "        self.enc_layer = MultiHeadAttention(n_head, d_model, d_k, d_v, dropout)\n",
    "        self.pos_ffn = PositionwiseFeedForward(d_model, d_inner, dropout)\n",
    "\n",
    "    def forward(self, dec_input, d_inner, enc_output, slf_attn_mask = None, dec_enc_attn_mask = None):\n",
    "        dec_output, dec_slf_attn = self.slf_attn(dec_input, dec_input, dec_input, slf_attn_mask)\n",
    "        dec_output, dec_enc_attn = self.enc_attn(dec_output, enc_output, enc_output, dec_enc_attn_mask)\n",
    "        dec_output = self.pos_ffn(dec_output)\n",
    "        return dec_output, dec_slf_attn, dec_enc_attn"
   ]
  },
  {
   "cell_type": "markdown",
   "metadata": {},
   "source": [
    "# ! Extra Material"
   ]
  },
  {
   "cell_type": "markdown",
   "metadata": {},
   "source": [
    "## a. understand Query, Key and Value matrices"
   ]
  },
  {
   "cell_type": "code",
   "execution_count": 158,
   "metadata": {},
   "outputs": [],
   "source": [
    "d_model = 12000\n",
    "n_head = 6 \n",
    "d_k = 128\n",
    "b_size = 3\n",
    "max_phrase_size = 5\n",
    "test_l = nn.Linear(d_model, d_k * n_head, bias = False)\n",
    "test = test_l.get_parameter('weight')\n",
    "embedd = torch.randn(b_size, max_phrase_size, d_model)"
   ]
  },
  {
   "cell_type": "code",
   "execution_count": 159,
   "metadata": {},
   "outputs": [
    {
     "data": {
      "text/plain": [
       "torch.Size([768, 12000])"
      ]
     },
     "execution_count": 159,
     "metadata": {},
     "output_type": "execute_result"
    }
   ],
   "source": [
    "test.size()"
   ]
  },
  {
   "cell_type": "code",
   "execution_count": 160,
   "metadata": {},
   "outputs": [
    {
     "data": {
      "text/plain": [
       "torch.Size([3, 5, 6, 128])"
      ]
     },
     "execution_count": 160,
     "metadata": {},
     "output_type": "execute_result"
    }
   ],
   "source": [
    "test_l(embedd).view(b_size, max_phrase_size, n_head, d_k).size()"
   ]
  },
  {
   "cell_type": "markdown",
   "metadata": {},
   "source": [
    "#### <span style=\"color:red\">NOTE:</span> After this calculation we just transpose dimensions 1 and 2 and obtain the Q, K and V matrices for 3 batches, each having 6 attention heads for phrases of length 5 where each word has and embedding size of 128"
   ]
  },
  {
   "cell_type": "markdown",
   "metadata": {},
   "source": [
    "## b. understand word Embedding"
   ]
  },
  {
   "cell_type": "code",
   "execution_count": 117,
   "metadata": {},
   "outputs": [],
   "source": [
    "n_src_vocab = 5000\n",
    "d_word_vec = 128\n",
    "src_word_emb = nn.Embedding(n_src_vocab, d_word_vec)"
   ]
  },
  {
   "cell_type": "code",
   "execution_count": 146,
   "metadata": {},
   "outputs": [
    {
     "data": {
      "text/plain": [
       "[0, 3, 4999]"
      ]
     },
     "execution_count": 146,
     "metadata": {},
     "output_type": "execute_result"
    }
   ],
   "source": [
    "vocab = {\"cake\": 0, \"there\": 1, \"hey\": 2, \"is\": 3, \"good\": 4999}\n",
    "word_indexes = [vocab[w] for w in [\"cake\", \"is\", \"good\"]]\n",
    "word_indexes"
   ]
  },
  {
   "cell_type": "code",
   "execution_count": 147,
   "metadata": {},
   "outputs": [
    {
     "data": {
      "text/plain": [
       "torch.Size([3, 128])"
      ]
     },
     "execution_count": 147,
     "metadata": {},
     "output_type": "execute_result"
    }
   ],
   "source": [
    "word_vectors = src_word_emb(torch.tensor(word_indexes))\n",
    "word_vectors.size()"
   ]
  },
  {
   "cell_type": "code",
   "execution_count": null,
   "metadata": {},
   "outputs": [],
   "source": []
  }
 ],
 "metadata": {
  "kernelspec": {
   "display_name": "base",
   "language": "python",
   "name": "python3"
  },
  "language_info": {
   "codemirror_mode": {
    "name": "ipython",
    "version": 3
   },
   "file_extension": ".py",
   "mimetype": "text/x-python",
   "name": "python",
   "nbconvert_exporter": "python",
   "pygments_lexer": "ipython3",
   "version": "3.10.14"
  }
 },
 "nbformat": 4,
 "nbformat_minor": 2
}
